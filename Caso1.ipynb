{
 "cells": [
  {
   "cell_type": "markdown",
   "id": "e9e39237",
   "metadata": {},
   "source": [
    "### Parte a"
   ]
  },
  {
   "cell_type": "markdown",
   "id": "b918c113",
   "metadata": {},
   "source": [
    "Se tiene que el ISP=11.7%, la entidad tiene una cartera de crédito con saldo de 8050 millones y rendimiento neto de 3%, además una cartera de inversiones valorada en 976 millones con rendimiento neto del 1%."
   ]
  },
  {
   "cell_type": "code",
   "execution_count": 2,
   "id": "406870dc",
   "metadata": {},
   "outputs": [],
   "source": [
    "CB=1150\n",
    "RC=8905\n",
    "RP=72.3\n",
    "RO=15.2\n",
    "RTC=4.7"
   ]
  },
  {
   "cell_type": "code",
   "execution_count": 12,
   "id": "1da69021",
   "metadata": {},
   "outputs": [
    {
     "name": "stdout",
     "output_type": "stream",
     "text": [
      "251.26\n"
     ]
    }
   ],
   "source": [
    "Rend = 0.03*8050 + 0.01*976\n",
    "print(Rend)"
   ]
  },
  {
   "cell_type": "markdown",
   "id": "368a6674",
   "metadata": {},
   "source": [
    "Las pérdidas siguen una distribución Gamma de media 80.5 y desviación estándar 87.2, lo que nos permite calcular que esta es una Gamma de parámetros forma=0.852 y escala=94.46, aproximadamente"
   ]
  },
  {
   "cell_type": "code",
   "execution_count": 24,
   "id": "fd3a322a",
   "metadata": {},
   "outputs": [
    {
     "name": "stdout",
     "output_type": "stream",
     "text": [
      "402.18121879558777\n"
     ]
    }
   ],
   "source": [
    "from scipy.stats import gamma\n",
    "\n",
    "mu = 80.5\n",
    "sd = 87.2\n",
    "\n",
    "alpha = (mu ** 2) / (sd ** 2)\n",
    "beta = (sd ** 2) / mu\n",
    "\n",
    "perd_max = gamma.ppf(0.99, alpha, scale=beta)\n",
    "print(perd_max)"
   ]
  },
  {
   "cell_type": "markdown",
   "id": "abcbf0fc",
   "metadata": {},
   "source": [
    "Entonces incluyendo los ingresos y las pérdidas más altas que se pueden esperar, se puede llegar a tener un ISP de"
   ]
  },
  {
   "cell_type": "code",
   "execution_count": 30,
   "id": "6372f9c9",
   "metadata": {},
   "outputs": [
    {
     "name": "stdout",
     "output_type": "stream",
     "text": [
      "0.1012523255150361\n"
     ]
    }
   ],
   "source": [
    "CBnew= CB+Rend-perd_max\n",
    "RCnew=RC+perd_max*0.1\n",
    "\n",
    "ISP_min = CBnew/(RCnew + 10*(RP+RO+RTC))\n",
    "print(ISP_min)"
   ]
  },
  {
   "cell_type": "markdown",
   "id": "8eae3cb1",
   "metadata": {},
   "source": [
    "### Parte b"
   ]
  },
  {
   "cell_type": "code",
   "execution_count": 47,
   "id": "6b491a6c",
   "metadata": {
    "scrolled": true
   },
   "outputs": [
    {
     "name": "stdout",
     "output_type": "stream",
     "text": [
      "414.4158415841584\n"
     ]
    }
   ],
   "source": [
    "X = (CB+Rend-(0.1*RC+RP+RO+RTC))/1.01\n",
    "print(X)"
   ]
  },
  {
   "cell_type": "code",
   "execution_count": 50,
   "id": "e7d6c5ee",
   "metadata": {},
   "outputs": [
    {
     "data": {
      "text/plain": [
       "0.00879229825801564"
      ]
     },
     "execution_count": 50,
     "metadata": {},
     "output_type": "execute_result"
    }
   ],
   "source": [
    "1-gamma.cdf(414, alpha, scale=beta)"
   ]
  },
  {
   "cell_type": "markdown",
   "id": "a1a2efa1",
   "metadata": {},
   "source": [
    "Por tanto, la probabilidad de tener un ISP menor a 0.1 es de 0.88%"
   ]
  },
  {
   "cell_type": "markdown",
   "id": "eee2ae4b",
   "metadata": {},
   "source": [
    "### Parte c"
   ]
  },
  {
   "cell_type": "code",
   "execution_count": 55,
   "id": "8cd4720d",
   "metadata": {},
   "outputs": [
    {
     "data": {
      "image/png": "[encoded data removed]",
      "text/plain": [
       "<Figure size 640x480 with 1 Axes>"
      ]
     },
     "metadata": {},
     "output_type": "display_data"
    },
    {
     "name": "stdout",
     "output_type": "stream",
     "text": [
      "ISP que se puede esperar: 0.13405603885674908\n"
     ]
    }
   ],
   "source": [
    "import numpy as np\n",
    "import matplotlib.pyplot as plt\n",
    "\n",
    "n = 1000\n",
    "perd_sim = gamma.rvs(alpha, scale=beta, size=n)\n",
    "\n",
    "CBnew= CB+Rend-perd_sim\n",
    "RCnew=RC+perd_sim*0.1\n",
    "\n",
    "ISP_sim =  CBnew/(RCnew + 10*(RP+RO+RTC)) \n",
    "# Análisis de la distribución de ISP simulada\n",
    "plt.hist(ISP_sim, bins=10, color='skyblue', edgecolor='black')\n",
    "plt.title('Distribución simulada del ISP después de aplicar las pérdidas')\n",
    "plt.xlabel('ISP')\n",
    "plt.ylabel('Frecuencia')\n",
    "plt.show()\n",
    "\n",
    "print(\"ISP que se puede esperar:\", np.mean(ISP_sim))\n",
    "\n"
   ]
  }
 ],
 "metadata": {
  "kernelspec": {
   "display_name": "Python 3 (ipykernel)",
   "language": "python",
   "name": "python3"
  },
  "language_info": {
   "codemirror_mode": {
    "name": "ipython",
    "version": 3
   },
   "file_extension": ".py",
   "mimetype": "text/x-python",
   "name": "python",
   "nbconvert_exporter": "python",
   "pygments_lexer": "ipython3",
   "version": "3.10.9"
  }
 },
 "nbformat": 4,
 "nbformat_minor": 5
}
